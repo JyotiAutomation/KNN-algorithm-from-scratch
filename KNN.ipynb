{
 "cells": [
  {
   "cell_type": "code",
   "execution_count": 4,
   "metadata": {},
   "outputs": [
    {
     "name": "stdout",
     "output_type": "stream",
     "text": [
      "[0.0]\n",
      "[0.0, 1.3290173915275787]\n",
      "[0.0, 1.3290173915275787, 1.9494646655653247]\n",
      "[0.0, 1.3290173915275787, 1.9494646655653247, 1.5591439385540549]\n",
      "[0.0, 1.3290173915275787, 1.9494646655653247, 1.5591439385540549, 0.5356280721938492]\n",
      "[0.0, 1.3290173915275787, 1.9494646655653247, 1.5591439385540549, 0.5356280721938492, 4.952940611164215]\n",
      "[0.0, 1.3290173915275787, 1.9494646655653247, 1.5591439385540549, 0.5356280721938492, 4.952940611164215, 2.7789902674782985]\n",
      "[0.0, 1.3290173915275787, 1.9494646655653247, 1.5591439385540549, 0.5356280721938492, 4.952940611164215, 2.7789902674782985, 4.3312480380207]\n",
      "[0.0, 1.3290173915275787, 1.9494646655653247, 1.5591439385540549, 0.5356280721938492, 4.952940611164215, 2.7789902674782985, 4.3312480380207, 6.59862349695304]\n",
      "[0.0, 1.3290173915275787, 1.9494646655653247, 1.5591439385540549, 0.5356280721938492, 4.952940611164215, 2.7789902674782985, 4.3312480380207, 6.59862349695304, 5.084885603993178]\n",
      "[[2.7810836, 2.550537003, 0], [3.06407232, 3.005305973, 0], [1.465489372, 2.362125076, 0]]\n",
      "[0.0]\n",
      "[0.0, 1.3290173915275787]\n",
      "[0.0, 1.3290173915275787, 1.9494646655653247]\n",
      "[0.0, 1.3290173915275787, 1.9494646655653247, 1.5591439385540549]\n",
      "[0.0, 1.3290173915275787, 1.9494646655653247, 1.5591439385540549, 0.5356280721938492]\n",
      "[0.0, 1.3290173915275787, 1.9494646655653247, 1.5591439385540549, 0.5356280721938492, 4.952940611164215]\n",
      "[0.0, 1.3290173915275787, 1.9494646655653247, 1.5591439385540549, 0.5356280721938492, 4.952940611164215, 2.7789902674782985]\n",
      "[0.0, 1.3290173915275787, 1.9494646655653247, 1.5591439385540549, 0.5356280721938492, 4.952940611164215, 2.7789902674782985, 4.3312480380207]\n",
      "[0.0, 1.3290173915275787, 1.9494646655653247, 1.5591439385540549, 0.5356280721938492, 4.952940611164215, 2.7789902674782985, 4.3312480380207, 6.59862349695304]\n",
      "[0.0, 1.3290173915275787, 1.9494646655653247, 1.5591439385540549, 0.5356280721938492, 4.952940611164215, 2.7789902674782985, 4.3312480380207, 6.59862349695304, 5.084885603993178]\n",
      "Expected 0, Got 0.\n",
      "😄\n"
     ]
    }
   ],
   "source": [
    "from math import sqrt\n",
    "\n",
    "dataset = [[2.7810836,2.550537003,0],\n",
    "  [1.465489372,2.362125076,0],\n",
    "  [3.396561688,4.400293529,0],\n",
    "  [1.38807019,1.850220317,0],\n",
    "  [3.06407232,3.005305973,0],\n",
    "  [7.627531214,2.759262235,1],\n",
    "  [5.332441248,2.088626775,1],\n",
    "  [6.922596716,1.77106367,1],\n",
    "  [8.675418651,-0.242068655,1],\n",
    "  [7.673756466,3.508563011,1]]\n",
    "\n",
    "row0 = dataset[0]\n",
    "\n",
    "def euclidean_distance(row1,row2):\n",
    "    distanc = 0.0\n",
    "    for i in range(len(row1)):\n",
    "        distanc +=(row1[i] - row2[i])**2\n",
    "        squ = sqrt(distanc)\n",
    "    return squ\n",
    "\n",
    "\n",
    "# dataset =training data , row0 = test data , k = no. of k\n",
    "def get_neighbours(dataset, k, row0):\n",
    "    # to call euclidean distance function\n",
    "    distance = list()\n",
    "    for row in dataset:\n",
    "        dii = euclidean_distance(row, row0)  # function calling\n",
    "        distance.append(dii)\n",
    "        #print(distance)\n",
    "\n",
    "    merge_data = [(dataset[i], distance[i]) for i in range(len(dataset))]  # to make a tuple out of 2 lists\n",
    "    #print(merge_data)\n",
    "    sorted_data = sorted(merge_data, key=lambda tup: tup[1])  # to sort tuple by 2nd element\n",
    "    #print(sorted_data)\n",
    "    cc = [(x[0]) for x in sorted_data]  # to get first element of a tuple(sorted_data)\n",
    "    neighbors = list()  # empty list\n",
    "    for i in range(k):\n",
    "        neighbors.append(cc[i])  # to append values in empty list\n",
    "    return neighbors\n",
    "\n",
    "\n",
    "row0 = dataset[0]\n",
    "t = get_neighbours(dataset, 3, row0)\n",
    "print(t)\n",
    "\n",
    "# Prediction\n",
    "\n",
    "def predict_classification(train, test_row, num_neighbors):   #  change this part of code\n",
    "  neighbors = get_neighbours(train, num_neighbors,test_row )\n",
    "  output_values = [row[-1] for row in neighbors]\n",
    "  prediction = max(set(output_values), key=output_values.count)\n",
    "  return prediction\n",
    "\n",
    "prediction = predict_classification(dataset, dataset[0], 3)\n",
    "print('Expected %d, Got %d.' % (dataset[0][-1], prediction))\n",
    "\n",
    "print(\"\\U0001F604\")"
   ]
  },
  {
   "cell_type": "code",
   "execution_count": null,
   "metadata": {},
   "outputs": [],
   "source": []
  }
 ],
 "metadata": {
  "kernelspec": {
   "display_name": "Python 3",
   "language": "python",
   "name": "python3"
  },
  "language_info": {
   "codemirror_mode": {
    "name": "ipython",
    "version": 3
   },
   "file_extension": ".py",
   "mimetype": "text/x-python",
   "name": "python",
   "nbconvert_exporter": "python",
   "pygments_lexer": "ipython3",
   "version": "3.7.4"
  }
 },
 "nbformat": 4,
 "nbformat_minor": 2
}
